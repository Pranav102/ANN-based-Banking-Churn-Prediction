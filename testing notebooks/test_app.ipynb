{
 "cells": [
  {
   "cell_type": "code",
   "execution_count": 2,
   "metadata": {},
   "outputs": [
    {
     "name": "stdout",
     "output_type": "stream",
     "text": [
      " * Serving Flask app \"__main__\" (lazy loading)\n",
      " * Environment: production\n",
      "   WARNING: Do not use the development server in a production environment.\n",
      "   Use a production WSGI server instead.\n",
      " * Debug mode: off\n"
     ]
    },
    {
     "name": "stderr",
     "output_type": "stream",
     "text": [
      " * Running on http://0.0.0.0:8080/ (Press CTRL+C to quit)\n",
      "C:\\Users\\paras\\Anaconda3\\lib\\site-packages\\pandas\\core\\frame.py:6692: FutureWarning: Sorting because non-concatenation axis is not aligned. A future version\n",
      "of pandas will change to not sort by default.\n",
      "\n",
      "To accept the future behavior, pass 'sort=False'.\n",
      "\n",
      "To retain the current behavior and silence the warning, pass 'sort=True'.\n",
      "\n",
      "  sort=sort)\n",
      "C:\\Users\\paras\\Anaconda3\\lib\\site-packages\\ipykernel_launcher.py:36: DataConversionWarning: Data with input dtype int64, object were all converted to float64 by StandardScaler.\n"
     ]
    },
    {
     "name": "stdout",
     "output_type": "stream",
     "text": [
      "  Age Balance CreditScore EstimatedSalary  Gender  Geography_France  \\\n",
      "0  58  132690         653             509       0                 0   \n",
      "\n",
      "   Geography_Germany  Geography_Spain HasCrCard IsActiveMember NumOfProducts  \\\n",
      "0                  1                0         1              0             1   \n",
      "\n",
      "  Tenure  \n",
      "0      1  \n",
      "[[ 1.83229264  0.90469479  0.02525686 -1.73222521 -1.09168714 -1.01460667\n",
      "   1.75486502 -0.57369368  0.64259497 -1.03227043 -0.92159124 -1.37744033]]\n"
     ]
    },
    {
     "name": "stderr",
     "output_type": "stream",
     "text": [
      "127.0.0.1 - - [23/Apr/2020 11:22:33] \"\u001b[37mPOST /predict HTTP/1.1\u001b[0m\" 200 -\n"
     ]
    },
    {
     "name": "stdout",
     "output_type": "stream",
     "text": [
      "[[0.70303863]] [0.70303863] 0.70303863\n",
      "0.70303863\n"
     ]
    },
    {
     "name": "stderr",
     "output_type": "stream",
     "text": [
      "C:\\Users\\paras\\Anaconda3\\lib\\site-packages\\pandas\\core\\frame.py:6692: FutureWarning: Sorting because non-concatenation axis is not aligned. A future version\n",
      "of pandas will change to not sort by default.\n",
      "\n",
      "To accept the future behavior, pass 'sort=False'.\n",
      "\n",
      "To retain the current behavior and silence the warning, pass 'sort=True'.\n",
      "\n",
      "  sort=sort)\n",
      "C:\\Users\\paras\\Anaconda3\\lib\\site-packages\\ipykernel_launcher.py:36: DataConversionWarning: Data with input dtype int64, object were all converted to float64 by StandardScaler.\n"
     ]
    },
    {
     "name": "stdout",
     "output_type": "stream",
     "text": [
      "  Age Balance CreditScore EstimatedSalary  Gender  Geography_France  \\\n",
      "0  45  132690         653             509       0                 0   \n",
      "\n",
      "   Geography_Germany  Geography_Spain HasCrCard IsActiveMember NumOfProducts  \\\n",
      "0                  1                0         1              0             1   \n",
      "\n",
      "  Tenure  \n",
      "0      1  \n",
      "[[ 0.58813815  0.90469479  0.02525686 -1.73222521 -1.09168714 -1.01460667\n",
      "   1.75486502 -0.57369368  0.64259497 -1.03227043 -0.92159124 -1.37744033]]\n"
     ]
    },
    {
     "name": "stderr",
     "output_type": "stream",
     "text": [
      "127.0.0.1 - - [23/Apr/2020 11:22:50] \"\u001b[37mPOST /predict HTTP/1.1\u001b[0m\" 200 -\n"
     ]
    },
    {
     "name": "stdout",
     "output_type": "stream",
     "text": [
      "[[0.596406]] [0.596406] 0.596406\n",
      "0.596406\n"
     ]
    },
    {
     "name": "stderr",
     "output_type": "stream",
     "text": [
      "C:\\Users\\paras\\Anaconda3\\lib\\site-packages\\pandas\\core\\frame.py:6692: FutureWarning: Sorting because non-concatenation axis is not aligned. A future version\n",
      "of pandas will change to not sort by default.\n",
      "\n",
      "To accept the future behavior, pass 'sort=False'.\n",
      "\n",
      "To retain the current behavior and silence the warning, pass 'sort=True'.\n",
      "\n",
      "  sort=sort)\n",
      "C:\\Users\\paras\\Anaconda3\\lib\\site-packages\\ipykernel_launcher.py:36: DataConversionWarning: Data with input dtype int64, object were all converted to float64 by StandardScaler.\n"
     ]
    },
    {
     "name": "stdout",
     "output_type": "stream",
     "text": [
      "  Age Balance CreditScore EstimatedSalary  Gender  Geography_France  \\\n",
      "0  12  132690         653             509       0                 0   \n",
      "\n",
      "   Geography_Germany  Geography_Spain HasCrCard IsActiveMember NumOfProducts  \\\n",
      "0                  1                0         1              0             1   \n",
      "\n",
      "  Tenure  \n",
      "0      1  \n",
      "[[-2.57010017  0.90469479  0.02525686 -1.73222521 -1.09168714 -1.01460667\n",
      "   1.75486502 -0.57369368  0.64259497 -1.03227043 -0.92159124 -1.37744033]]\n"
     ]
    },
    {
     "name": "stderr",
     "output_type": "stream",
     "text": [
      "127.0.0.1 - - [23/Apr/2020 11:22:57] \"\u001b[37mPOST /predict HTTP/1.1\u001b[0m\" 200 -\n"
     ]
    },
    {
     "name": "stdout",
     "output_type": "stream",
     "text": [
      "[[0.01603231]] [0.01603231] 0.016032314\n",
      "0.016032314\n"
     ]
    },
    {
     "name": "stderr",
     "output_type": "stream",
     "text": [
      "C:\\Users\\paras\\Anaconda3\\lib\\site-packages\\pandas\\core\\frame.py:6692: FutureWarning: Sorting because non-concatenation axis is not aligned. A future version\n",
      "of pandas will change to not sort by default.\n",
      "\n",
      "To accept the future behavior, pass 'sort=False'.\n",
      "\n",
      "To retain the current behavior and silence the warning, pass 'sort=True'.\n",
      "\n",
      "  sort=sort)\n",
      "C:\\Users\\paras\\Anaconda3\\lib\\site-packages\\ipykernel_launcher.py:36: DataConversionWarning: Data with input dtype int64, object were all converted to float64 by StandardScaler.\n"
     ]
    },
    {
     "name": "stdout",
     "output_type": "stream",
     "text": [
      "   Age Balance CreditScore EstimatedSalary  Gender  Geography_France  \\\n",
      "0  134  132690         653             509       0                 0   \n",
      "\n",
      "   Geography_Germany  Geography_Spain HasCrCard IsActiveMember NumOfProducts  \\\n",
      "0                  1                0         1              0             1   \n",
      "\n",
      "  Tenure  \n",
      "0      1  \n",
      "[[ 9.10581119  0.90469479  0.02525686 -1.73222521 -1.09168714 -1.01460667\n",
      "   1.75486502 -0.57369368  0.64259497 -1.03227043 -0.92159124 -1.37744033]]\n"
     ]
    },
    {
     "name": "stderr",
     "output_type": "stream",
     "text": [
      "127.0.0.1 - - [23/Apr/2020 11:23:04] \"\u001b[37mPOST /predict HTTP/1.1\u001b[0m\" 200 -\n"
     ]
    },
    {
     "name": "stdout",
     "output_type": "stream",
     "text": [
      "[[0.21652554]] [0.21652554] 0.21652554\n",
      "0.21652554\n"
     ]
    },
    {
     "name": "stderr",
     "output_type": "stream",
     "text": [
      "C:\\Users\\paras\\Anaconda3\\lib\\site-packages\\pandas\\core\\frame.py:6692: FutureWarning: Sorting because non-concatenation axis is not aligned. A future version\n",
      "of pandas will change to not sort by default.\n",
      "\n",
      "To accept the future behavior, pass 'sort=False'.\n",
      "\n",
      "To retain the current behavior and silence the warning, pass 'sort=True'.\n",
      "\n",
      "  sort=sort)\n",
      "C:\\Users\\paras\\Anaconda3\\lib\\site-packages\\ipykernel_launcher.py:36: DataConversionWarning: Data with input dtype int64, object were all converted to float64 by StandardScaler.\n"
     ]
    },
    {
     "name": "stdout",
     "output_type": "stream",
     "text": [
      "  Age Balance CreditScore EstimatedSalary  Gender  Geography_France  \\\n",
      "0  60  132690         653             509       0                 0   \n",
      "\n",
      "   Geography_Germany  Geography_Spain HasCrCard IsActiveMember NumOfProducts  \\\n",
      "0                  1                0         1              0             1   \n",
      "\n",
      "  Tenure  \n",
      "0      1  \n",
      "[[ 2.02370102  0.90469479  0.02525686 -1.73222521 -1.09168714 -1.01460667\n",
      "   1.75486502 -0.57369368  0.64259497 -1.03227043 -0.92159124 -1.37744033]]\n"
     ]
    },
    {
     "name": "stderr",
     "output_type": "stream",
     "text": [
      "127.0.0.1 - - [23/Apr/2020 11:23:12] \"\u001b[37mPOST /predict HTTP/1.1\u001b[0m\" 200 -\n"
     ]
    },
    {
     "name": "stdout",
     "output_type": "stream",
     "text": [
      "[[0.70303863]] [0.70303863] 0.70303863\n",
      "0.70303863\n"
     ]
    }
   ],
   "source": [
    "# -*- coding: utf-8 -*-\n",
    "\"\"\"\n",
    "Created on Wed Apr 22 06:43:26 2020\n",
    "\n",
    "@author: paras\n",
    "\"\"\"\n",
    "\n",
    "from flask import Flask, jsonify, request\n",
    "import pandas as pd\n",
    "import numpy as np\n",
    "import json\n",
    "from sklearn.externals import joblib \n",
    "\n",
    "\n",
    "from sklearn.preprocessing import LabelEncoder, OneHotEncoder\n",
    "from sklearn.compose import ColumnTransformer\n",
    "from sklearn.preprocessing import StandardScaler\n",
    "   \n",
    "import flask\n",
    "\n",
    "app = Flask(__name__)\n",
    "\n",
    "main_cols = joblib.load(\"columns.pkl\")\n",
    "main_cols = joblib.load(\"columns.pkl\")\n",
    "    \n",
    "\n",
    "def clean_data(df_x):\n",
    "    le = LabelEncoder()\n",
    "    df_x.Gender = le.fit_transform(df_x.Gender)\n",
    "    df_x = pd.get_dummies(data = df_x,  columns=[\"Geography\"], drop_first = False)\n",
    "    return df_x\n",
    "\n",
    "\n",
    "def standardize_data(dta):\n",
    "    scaler = joblib.load(\"std_scaler.pkl\")\n",
    "    X_transformed = scaler.transform(dta)\n",
    "    return X_transformed\n",
    "\n",
    "\n",
    "@app.route('/')\n",
    "def hello_world():\n",
    "    return 'Hello World!'\n",
    "\n",
    "\n",
    "@app.route('/index')\n",
    "def index():\n",
    "    return flask.render_template('index.html')\n",
    "\n",
    "\n",
    "@app.route('/predict', methods=['POST'])\n",
    "def predict():\n",
    "    \n",
    "    form_data = request.form.to_dict()\n",
    "    \n",
    "    df_input = pd.DataFrame.from_records([form_data], )\n",
    "    df_input = df_input.drop(['submitBtn'], axis=1)\n",
    "    df_input = pd.DataFrame(df_input)\n",
    " \n",
    "    sample_df = pd.DataFrame(columns = main_cols)\n",
    "    clean_df = clean_data(df_input)\n",
    "    main_df = sample_df.append(clean_df)\n",
    "    main_df = main_df.fillna(0)\n",
    "    print(main_df)\n",
    "         \n",
    "    std_df = standardize_data(main_df)\n",
    "    print(std_df)\n",
    "    \n",
    "    clf = joblib.load('prediction_classifier.pkl')\n",
    "    pred = clf.predict(std_df)\n",
    "    print(pred, pred[0], pred[0][0])\n",
    "    x = pred[0][0]\n",
    "    \n",
    "    print(x)\n",
    "    \n",
    "    return jsonify({'prediction': json.dumps(str(x))})\n",
    "\n",
    "\n",
    "if __name__ == '__main__':\n",
    "    app.run(host='0.0.0.0', port=8080)"
   ]
  },
  {
   "cell_type": "code",
   "execution_count": null,
   "metadata": {},
   "outputs": [],
   "source": []
  }
 ],
 "metadata": {
  "kernelspec": {
   "display_name": "Python 3",
   "language": "python",
   "name": "python3"
  },
  "language_info": {
   "codemirror_mode": {
    "name": "ipython",
    "version": 3
   },
   "file_extension": ".py",
   "mimetype": "text/x-python",
   "name": "python",
   "nbconvert_exporter": "python",
   "pygments_lexer": "ipython3",
   "version": "3.7.3"
  }
 },
 "nbformat": 4,
 "nbformat_minor": 2
}
